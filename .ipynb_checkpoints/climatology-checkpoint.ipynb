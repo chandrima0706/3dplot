{
 "cells": [
  {
   "cell_type": "markdown",
   "metadata": {},
   "source": [
    "# this program calculates climatology for each parameters"
   ]
  },
  {
   "cell_type": "code",
   "execution_count": 3,
   "metadata": {},
   "outputs": [],
   "source": [
    "import xarray as xr"
   ]
  },
  {
   "cell_type": "code",
   "execution_count": 17,
   "metadata": {},
   "outputs": [],
   "source": [
    "rain_25=xr.open_dataset('D:/pai/data/dailymean/daily_imdrain/rain_NC_0.25/1981-2010/imdrain_1981_2010.nc')\n",
    "rain_1=xr.open_dataset('D:/pai/data/dailymean/daily_imdrain/rain_nc_1x1/1981-2010/imd_rain_1deg_1981_2010.nc')\n",
    "T=xr.open_dataset('D:/pai/data/dailymean/ncep_daily_airT_surface/1981-2010/ncep_airT_1981_2010.nc')\n",
    "omega=xr.open_dataset('D:/pai/data/dailymean/ncep_daily_omega_plevel/1981-2010/ncep_daily_omega.1981_2010.nc')\n",
    "uwind=xr.open_dataset('D:/pai/data/dailymean/ncep_daily_uwind_Plevel/1981-2010/ncep_daily_uwnd.1981_2010.nc')\n",
    "vwind=xr.open_dataset('D:/pai/data/dailymean/ncep_daily_vwind_plevel/1981-2010/ncep_daily_vwnd.1981_2010.nc')"
   ]
  },
  {
   "cell_type": "code",
   "execution_count": 33,
   "metadata": {},
   "outputs": [],
   "source": [
    "#clim_rain25=rain_25.groupby('time.dayofyear').mean(dim='time')\n",
    "#clim_rain1=rain_1.groupby('time.dayofyear').mean(dim='time')\n",
    "#clim_T=T.groupby('time.dayofyear').mean(dim='time')\n",
    "#clim_Omega=omega.groupby('time.dayofyear').mean(dim='time')\n",
    "#clim_u=uwind.groupby('time.dayofyear').mean(dim='time')\n",
    "clim_v=vwind.groupby('time.dayofyear').mean(dim='time')"
   ]
  },
  {
   "cell_type": "code",
   "execution_count": 34,
   "metadata": {},
   "outputs": [],
   "source": [
    "#clim_rain25.to_netcdf('D:/pai/data/dailymean/daily_imdrain/rain_NC_0.25/1981-2010/dailyclim_rain25_1981_2010.nc')\n",
    "#clim_rain1.to_netcdf('D:/pai/data/dailymean/daily_imdrain/rain_nc_1x1/1981-2010/dailyclim_rain_1_1981_2010.nc')\n",
    "#clim_T.to_netcdf('D:/pai/data/dailymean/ncep_daily_airT_surface/1981-2010/dailyclim_ncep_airT_1981_2010.nc')\n",
    "#clim_Omega.to_netcdf('D:/pai/data/dailymean/ncep_daily_omega_plevel/1981-2010/dailyclim_ncep_daily_omega.1981_2010.nc')\n",
    "#clim_u.to_netcdf('D:/pai/data/dailymean/ncep_daily_uwind_Plevel/1981-2010/dailyclim_ncep_daily_uwnd.1981_2010.nc')\n",
    "clim_v.to_netcdf('D:/pai/data/dailymean/ncep_daily_vwind_plevel/1981-2010/dailyclim_ncep_daily_vwnd.1981_2010.nc')\n"
   ]
  }
 ],
 "metadata": {
  "kernelspec": {
   "display_name": "Python 3",
   "language": "python",
   "name": "python3"
  },
  "language_info": {
   "codemirror_mode": {
    "name": "ipython",
    "version": 3
   },
   "file_extension": ".py",
   "mimetype": "text/x-python",
   "name": "python",
   "nbconvert_exporter": "python",
   "pygments_lexer": "ipython3",
   "version": "3.7.6"
  }
 },
 "nbformat": 4,
 "nbformat_minor": 4
}
